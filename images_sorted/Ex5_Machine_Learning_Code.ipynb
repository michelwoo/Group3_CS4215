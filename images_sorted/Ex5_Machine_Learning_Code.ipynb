{
 "cells": [
  {
   "cell_type": "code",
   "execution_count": 18,
   "metadata": {},
   "outputs": [],
   "source": [
    "import time\n",
    "\n",
    "import pandas as pd # used to load the data\n",
    "import numpy as np # optimized numerical library\n",
    "\n",
    "from sklearn import preprocessing, metrics, utils, decomposition, model_selection, linear_model, discriminant_analysis, svm, tree, ensemble # library providing several ML algorithms and related utility\n",
    "from sklearn.neural_network import MLPClassifier\n",
    "\n",
    "from imblearn import over_sampling # provides several resampling techniques to cope with unbalanced datasets (https://github.com/scikit-learn-contrib/imbalanced-learn) compatible with sklearn\n",
    "\n",
    "from collections import Counter\n",
    "\n",
    "import matplotlib.pyplot as plt # used for plotting\n",
    "\n",
    "# Start by defining three helper functions:\n",
    "# - one to plot the sample distribution  acorss the class labels (to see how un-/balanced the dataset is)\n",
    "# - one to compute and plot the confusion matrix\n",
    "# - one to plot data in 2D with different colors per class label\n",
    "\n",
    "def plot_pie(y, labels, title=\"\"):\n",
    "    target_stats = Counter(y)\n",
    "    sizes = list(target_stats.values())\n",
    "    explode = tuple([0.1] * len(target_stats))\n",
    "\n",
    "    fig, ax = plt.subplots()\n",
    "    ax.set_title(title + \" (size: %d)\" % len(y))\n",
    "    ax.pie(sizes, explode=explode, labels=target_stats.keys(), shadow=True, autopct='%1.1f%%')\n",
    "    ax.axis('equal')\n",
    "\n",
    "\n",
    "def compute_and_plot_cm(ytest, ypred, labels, title=\"\"):\n",
    "    global nfigure\n",
    "    # Compute confusion matrix\n",
    "    cm = metrics.confusion_matrix(ytest, ypred)\n",
    "    \n",
    "    accuracy = metrics.accuracy_score(ytest, ypred, normalize=True)\n",
    "\n",
    "    # Normalize the matrix\n",
    "    cm = cm.astype('float') / cm.sum(axis=1)[:, np.newaxis]\n",
    "\n",
    "    print(cm)\n",
    "\n",
    "    # Plot the confusion matrix\n",
    "\n",
    "    nfigure = nfigure + 1\n",
    "    plt.figure(nfigure) # new numbered figure\n",
    "    plt.imshow(cm, interpolation='nearest', cmap=plt.cm.Blues) # plot the confusionmatrix using blue shaded colors\n",
    "    plt.title(\"Confusion Matrix Normalized (%s) Accuracy: %.1f%%\" % (title, accuracy*100)) # add title\n",
    "    plt.colorbar() # plot the color bar as legend\n",
    "\n",
    "    # Plot the x and y ticks using the class label names\n",
    "    tick_marks = np.arange(len(labels))\n",
    "    plt.xticks(tick_marks, labels, rotation=45)\n",
    "    plt.yticks(tick_marks, labels)\n",
    "\n",
    "\n",
    "def plot_2d(xpred, ypred, labels, title=\"\"):\n",
    "    global nfigure\n",
    "    # define the colors to use for each class label\n",
    "    colors = ['red', 'blue', 'green', 'yellow', 'black']\n",
    "    len_colors = len(colors)\n",
    "    if len_colors < len(labels):\n",
    "        print(\"WARNING: we have less colors than classes: some classes will reuse the same color\")\n",
    "\n",
    "    nfigure = nfigure + 1\n",
    "    plt.figure(nfigure) # new numbered figure\n",
    "    plt.title(\"Feature Space (%s)\" % title) # add title\n",
    "\n",
    "\n",
    "    # plot each class label with a separate color \n",
    "    for c in [4,5]:\n",
    "        cur_class = (ypred == c) # get all points belonging to class c\n",
    "        plt.plot(xpred[cur_class, 0], xpred[cur_class, 1], 'o', color=colors[c % len_colors]) # plot class c\n",
    "\n",
    "\n",
    "nfigure = 0 #used to number the figures"
   ]
  },
  {
   "cell_type": "code",
   "execution_count": 4,
   "metadata": {},
   "outputs": [],
   "source": [
    "#conda install -c glemaitre imbalanced-learn"
   ]
  },
  {
   "cell_type": "markdown",
   "metadata": {},
   "source": [
    "# 1. Loading the data"
   ]
  },
  {
   "cell_type": "code",
   "execution_count": 5,
   "metadata": {},
   "outputs": [],
   "source": [
    "################ Load data ####################\n",
    "# Get the dataset loaded and define class labels \n",
    "#data = pd.read_csv('jobs.csv', header=0)\n",
    "#data_class_labels = [\"successful\", \"unsuccessful\"]\n",
    "\n",
    "# All data columns except last are input features (X), last column is output label (y)\n",
    "#n_features = len(data.columns) - 1\n",
    "\n",
    "#X = data.iloc[:,0:n_features]\n",
    "#y = data.iloc[:,n_features]\n",
    "\n",
    "#X = X[y != 2]\n",
    "#y = y[y != 2]\n",
    "\n",
    "#X = X[y != 3]\n",
    "#y = y[y != 3]\n",
    "\n",
    "#plot_pie(y, data_class_labels, \"Original\")"
   ]
  },
  {
   "cell_type": "markdown",
   "metadata": {},
   "source": [
    "### What problem do you see? \n"
   ]
  },
  {
   "cell_type": "markdown",
   "metadata": {},
   "source": [
    "### Lets make the data balance: over_sampling.SMOTE"
   ]
  },
  {
   "cell_type": "code",
   "execution_count": 6,
   "metadata": {},
   "outputs": [],
   "source": [
    "################ Resample data #################\n",
    "\n",
    "# Google data is very skewed, try to balance the dataset\n",
    "#sm = over_sampling.SMOTE(random_state=42, ratio=\"auto\")\n",
    "#X, y = sm.fit_sample(,)\n",
    "\n",
    "# Plot the balanced label distribution\n",
    "#plot_pie(,, \"Balanced\")"
   ]
  },
  {
   "cell_type": "markdown",
   "metadata": {},
   "source": [
    "### Lets have a smaller number of samples:  utils.resample()"
   ]
  },
  {
   "cell_type": "code",
   "execution_count": 7,
   "metadata": {},
   "outputs": [
    {
     "data": {
      "image/png": "[encoded data removed]",
      "text/plain": [
       "<Figure size 432x288 with 1 Axes>"
      ]
     },
     "metadata": {},
     "output_type": "display_data"
    }
   ],
   "source": [
    "# Resample the data with simple random resampling (if too big)\n",
    "# - replace decideds if sampling with or without replacement\n",
    "# - n_samples decide the size of the ouput: if set to None ouput = input (i.e. no resampling)\n",
    "#X, y = utils.resample(,, replace=False, n_samples=10000)\n",
    "\n",
    "# Plot the resampled label distribution\n",
    "\n",
    "#plot_pie(,, \"Sampled\")"
   ]
  },
  {
   "cell_type": "markdown",
   "metadata": {},
   "source": [
    "# 2. Preparing the data"
   ]
  },
  {
   "cell_type": "code",
   "execution_count": 8,
   "metadata": {},
   "outputs": [],
   "source": [
    "################ Split data ####################\n",
    "# Split data in training and testing for 0.33 ratio of testing\n",
    "#X_train, X_test, y_train, y_test = model_selection.train_test_split(,, test_size=, random_state=42)"
   ]
  },
  {
   "cell_type": "markdown",
   "metadata": {},
   "source": [
    "### Standardize the data"
   ]
  },
  {
   "cell_type": "code",
   "execution_count": 9,
   "metadata": {},
   "outputs": [],
   "source": [
    "################ Scale data ####################\n",
    "# Train a scaler to standardize the features (zero mean and unit variance)\n",
    "#scaler = preprocessing.StandardScaler().fit()\n",
    "\n",
    "# ... and scale the features\n",
    "#X_train_scaled = scaler.transform()\n",
    "#X_test_scaled = scaler.transform()"
   ]
  },
  {
   "cell_type": "markdown",
   "metadata": {},
   "source": [
    "### Finding the k principle components (Bonus)"
   ]
  },
  {
   "cell_type": "code",
   "execution_count": 10,
   "metadata": {},
   "outputs": [],
   "source": [
    "################ PCA ####################\n",
    "# Train a PCA with k dimensions: Write a script to find minimum number of k components that ...\n",
    "# contain 90% of variance description\n",
    "\n",
    "# Your code here\n",
    "\n",
    "#pca = decomposition.PCA(n_components=).fit()\n",
    "\n",
    "# ... and apply it to the features\n",
    "#X_train_scaled_pca = pca.transform()\n",
    "#X_test_scaled_pca = pca.transform()"
   ]
  },
  {
   "cell_type": "markdown",
   "metadata": {},
   "source": [
    "# 3. Logistic Regression"
   ]
  },
  {
   "cell_type": "code",
   "execution_count": 7,
   "metadata": {},
   "outputs": [],
   "source": [
    "################ Logit ##################\n",
    "# Train a Logit model on the original features\n",
    "#lr = linear_model.LogisticRegression().fit()\n",
    "\n",
    "# Compute the predicted labels on test data\n",
    "#y_lr = lr.predict()\n",
    "#print(\"Acuracy of LR : %.1f%%\" % (metrics.accuracy_score(y_test,y_lr)*100))\n",
    "\n",
    "#compute_and_plot_cm(,, title=\"LR\")"
   ]
  },
  {
   "cell_type": "markdown",
   "metadata": {},
   "source": [
    "### Apply LR on PCA components (Bonus)"
   ]
  },
  {
   "cell_type": "code",
   "execution_count": 8,
   "metadata": {},
   "outputs": [],
   "source": [
    "# Train a Logit model on pca extracted features\n",
    "#lr_pca = linear_model.LogisticRegression().fit(,)\n",
    "\n",
    "# Compute the predicted labels on test data\n",
    "#y_lr_pca = lr_pca.predict()\n",
    "\n",
    "#print()\n",
    "\n",
    "#compute_and_plot_cm(,,, title=\"LR + PCA\")\n",
    "\n",
    "#plot_2d(,, title=\"LR + PCA\")\n"
   ]
  },
  {
   "cell_type": "markdown",
   "metadata": {},
   "source": [
    "# 4. Apply Support Vector Machine"
   ]
  },
  {
   "cell_type": "code",
   "execution_count": 9,
   "metadata": {},
   "outputs": [],
   "source": [
    "################ SVM ##################\n",
    "# Train a SVM model on the original features\n",
    "#sv = svm.SVC().fit(,)\n",
    "\n",
    "# Compute the predicted labels on test data\n",
    "#y_sv = sv.predict()\n",
    "#print()\n",
    "\n",
    "# Show confusion matrix\n",
    "#compute_and_plot_cm(,,, title=\"SVM\")\n",
    "\n",
    "\n",
    "# Train a SVM model on PCA extracted features\n",
    "#sv_pca = svm.SVC().fit(,)\n",
    "\n",
    "# Compute the predicted labels on test data\n",
    "#y_sv_pca = sv_pca.predict(,)\n",
    "#print()\n",
    "\n",
    "# Show confusion matrix\n",
    "#compute_and_plot_cm(,,, title=\"SVM + PCA\")\n",
    "\n",
    "# Show data in 2D\n",
    "#plot_2d(,,, title=\"SVM + PCA\")\n"
   ]
  },
  {
   "cell_type": "markdown",
   "metadata": {},
   "source": [
    "# 5. Apply Decision Tree"
   ]
  },
  {
   "cell_type": "code",
   "execution_count": 1,
   "metadata": {},
   "outputs": [],
   "source": [
    "################ DecisionTree ##################\n",
    "# Train a DT model on the original features\n",
    "#dt = tree.DecisionTreeClassifier().fit(,)\n",
    "\n",
    "# Compute the predicted labels on test data\n",
    "#y_dt = dt.predict()\n",
    "#print()\n",
    "\n",
    "# Show confusion matrix\n",
    "#compute_and_plot_cm(,, title=\"DT\")\n",
    "\n",
    "# Train a DT model on PCA extracted features\n",
    "#dt_pca = tree.DecisionTreeClassifier().fit(,)\n",
    "\n",
    "\n",
    "# Compute the predicted labels on test data\n",
    "#y_dt_pca = dt_pca.predict()\n",
    "\n",
    "#print()\n",
    "\n",
    "# Show confusion matrix\n",
    "#compute_and_plot_cm(,, title=\"DT + PCA\")\n",
    "\n",
    "# Show data in 2D\n",
    "#plot_2d(,, title=\"DT + PCA\")\n",
    "\n",
    "\n"
   ]
  },
  {
   "cell_type": "markdown",
   "metadata": {},
   "source": [
    "# 6. Apply Random Forest"
   ]
  },
  {
   "cell_type": "code",
   "execution_count": 2,
   "metadata": {},
   "outputs": [],
   "source": [
    "################ RandomForest ##################\n",
    "# Train a RF model on the original features\n",
    "#rf = ensemble.RandomForestClassifier().fit(,)\n",
    "\n",
    "# Compute the predicted labels on test data\n",
    "#y_rf = rf.predict()\n",
    "#print()\n",
    "\n",
    "# Show confusion matrix\n",
    "#compute_and_plot_cm(,, title=\"RF\")\n",
    "\n",
    "# Train a Logit model on PDA extracted features\n",
    "#rf_pca = ensemble.RandomForestClassifier().fit(,)\n",
    "\n",
    "# Compute the predicted labels on test data\n",
    "#y_rf_pca = rf_pca.predict()\n",
    "#print()\n",
    "\n",
    "# Show confusion matrix\n",
    "#compute_and_plot_cm(,, title=\"RF + PCA\")\n",
    "\n",
    "# Show data in 2D\n",
    "#plot_2d(,, title=\"RF + PCA\")"
   ]
  },
  {
   "cell_type": "markdown",
   "metadata": {},
   "source": [
    "# 7. Multi-Layer Perceptron (MLP)"
   ]
  },
  {
   "cell_type": "code",
   "execution_count": 3,
   "metadata": {},
   "outputs": [],
   "source": [
    "################ Multi-Layer Perceptron ##################\n",
    "# Train an MLP model on the original features\n",
    "#mlp = MLPClassifier ()\n",
    "#ml = mlp.fit(,)\n",
    "\n",
    "# Compute the predicted labels on test data\n",
    "#y_mlp = ml.predict()\n",
    "\n",
    "#print the accuracy\n",
    "\n",
    "# print the prediction probability for each class\n",
    "#compute_and_plot_cm(,, title='MLP')"
   ]
  },
  {
   "cell_type": "code",
   "execution_count": null,
   "metadata": {},
   "outputs": [],
   "source": []
  }
 ],
 "metadata": {
  "kernelspec": {
   "display_name": "Python 3",
   "language": "python",
   "name": "python3"
  },
  "language_info": {
   "codemirror_mode": {
    "name": "ipython",
    "version": 3
   },
   "file_extension": ".py",
   "mimetype": "text/x-python",
   "name": "python",
   "nbconvert_exporter": "python",
   "pygments_lexer": "ipython3",
   "version": "3.7.3"
  }
 },
 "nbformat": 4,
 "nbformat_minor": 2
}
