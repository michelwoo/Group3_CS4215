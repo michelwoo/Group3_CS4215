{
 "cells": [
  {
   "cell_type": "code",
   "execution_count": 65,
   "id": "3a81b90a-6b65-43ea-a1a0-5658fee5a56a",
   "metadata": {},
   "outputs": [],
   "source": [
    "from google.cloud import aiplatform\n",
    "\n",
    "import tensorflow as tf\n",
    "import numpy as np\n",
    "from PIL import Image\n",
    "import glob\n",
    "import time"
   ]
  },
  {
   "cell_type": "code",
   "execution_count": 2,
   "id": "ec52a9e9-c02c-4f42-a05c-06a852540728",
   "metadata": {},
   "outputs": [
    {
     "name": "stdout",
     "output_type": "stream",
     "text": [
      "Downloading data from https://storage.googleapis.com/download.tensorflow.org/data/ImageNetLabels.txt\n",
      "10484/10484 [==============================] - 0s 0us/step\n"
     ]
    }
   ],
   "source": [
    "# Download image labels\n",
    "\n",
    "labels_path = tf.keras.utils.get_file('ImageNetLabels.txt','https://storage.googleapis.com/download.tensorflow.org/data/ImageNetLabels.txt')\n",
    "imagenet_labels = np.array(open(labels_path).read().splitlines())"
   ]
  },
  {
   "cell_type": "code",
   "execution_count": 3,
   "id": "944bca62-9408-4479-9727-f2542cc373ea",
   "metadata": {},
   "outputs": [],
   "source": [
    "PROJECT_NUMBER = \"428711328705\"\n",
    "ENDPOINT_ID = \"2493098635516968960\"\n",
    "\n",
    "endpoint = aiplatform.Endpoint(\n",
    "    endpoint_name=f\"projects/{PROJECT_NUMBER}/locations/us-central1/endpoints/{ENDPOINT_ID}\")"
   ]
  },
  {
   "cell_type": "code",
   "execution_count": 282,
   "id": "61a2f8af-e54f-4f42-b19e-ea8727424211",
   "metadata": {},
   "outputs": [
    {
     "name": "stdout",
     "output_type": "stream",
     "text": [
      "Imagenet/n02037110_oystercatcher.JPEG\n"
     ]
    }
   ],
   "source": [
    "file = 'Imagenet/*.JPEG'\n",
    "file_string = glob.glob(file)\n",
    "IMAGE_SIZE = (200, 200)\n",
    "x_instances = []\n",
    "njobs = 1 # number of jobs\n",
    "offset = 241\n",
    "\n",
    "for x in range(njobs):\n",
    "    print(file_string[x+offset])\n",
    "    im = Image.open(file_string[x+offset])\n",
    "    im = im.resize(IMAGE_SIZE)\n",
    "    im = np.array(im)/255.0\n",
    "    x_test = im.astype(np.float32).tolist()\n",
    "    x_instances.append(x_test)"
   ]
  },
  {
   "cell_type": "code",
   "execution_count": 283,
   "id": "da85d487-5cdd-4b55-950e-91ac636a89f3",
   "metadata": {},
   "outputs": [
    {
     "name": "stdout",
     "output_type": "stream",
     "text": [
      "total run time 1.6326596340004471\n",
      "arrival times [0.1]\n",
      "response time [1.53]\n",
      "service time [1.53]\n",
      "wait time [0.0]\n"
     ]
    }
   ],
   "source": [
    "#generating inter arrival times\n",
    "inter_arrival_times = [0.1 for i in range(njobs)]\n",
    "# inter_arrival_times = [0.4 for i in range(5)] + [10] + [0.4 for i in range(4)] # high low inter arrival\n",
    "\n",
    "arrival_times= []# list of arrival times of a person joining the queue\n",
    "service_times = [] # list of service times once they reach the front\n",
    "finish_times = [] # list of finish times after waiting and being served\n",
    "    \n",
    "arrival_times = [0 for i in range(njobs)]\n",
    "service_times = [0 for i in range(njobs)]\n",
    "finish_times = [0 for i in range(njobs)]\n",
    "    \n",
    "arrival_times[0]=round(inter_arrival_times[0],2)#arrival of first customer\n",
    "#Generate arrival times\n",
    "for i in range(1,njobs):\n",
    "    arrival_times[i]=round((arrival_times[i-1]+inter_arrival_times[i]),2)\n",
    "    \n",
    "startTime = currentTime = finishTime = time.perf_counter()\n",
    "curCust = 0\n",
    "\n",
    "while (curCust < njobs):\n",
    "    currentTime = time.perf_counter()\n",
    "    if(currentTime - startTime >= arrival_times[curCust]):\n",
    "        result = endpoint.predict(instances=x_instances[curCust:(curCust+1)]).predictions\n",
    "        finishTime = time.perf_counter()\n",
    "        finish_times[curCust] = finishTime - startTime\n",
    "        service_times[curCust] = round(finishTime - currentTime, 2)\n",
    "        curCust += 1\n",
    "        \n",
    "print(\"total run time\", (finishTime - startTime))\n",
    "\n",
    "# Total time spent in the system by each customer\n",
    "total_times =[abs(round((finish_times[i]-arrival_times[i]),2)) for i in range(njobs)]\n",
    "\n",
    "# Time spent@waiting before being served (time spent in the queue)\n",
    "wait_times = [abs(round((total_times[i] - service_times[i]),2)) for i in range(njobs)]\n",
    "\n",
    "print('arrival times', arrival_times)\n",
    "print('response time', total_times)\n",
    "print('service time', service_times)\n",
    "print('wait time', wait_times)"
   ]
  },
  {
   "cell_type": "code",
   "execution_count": null,
   "id": "379c48a8-7b21-4a5b-ad22-621c7eed23cd",
   "metadata": {},
   "outputs": [],
   "source": []
  }
 ],
 "metadata": {
  "kernelspec": {
   "display_name": "TensorFlow 2 (Local)",
   "language": "python",
   "name": "local-tf2"
  },
  "language_info": {
   "codemirror_mode": {
    "name": "ipython",
    "version": 3
   },
   "file_extension": ".py",
   "mimetype": "text/x-python",
   "name": "python",
   "nbconvert_exporter": "python",
   "pygments_lexer": "ipython3",
   "version": "3.7.12"
  }
 },
 "nbformat": 4,
 "nbformat_minor": 5
}
